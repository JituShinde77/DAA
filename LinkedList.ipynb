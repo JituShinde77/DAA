{
 "cells": [
  {
   "cell_type": "markdown",
   "metadata": {},
   "source": [
    "## Linked List\n",
    "__Linked List is a data structure used for storing collection of data. Linked list has the following properties.__ \n",
    "* Success elements are connected by pointers.\n",
    "* Last element points to NULL.\n",
    "* Can grow or shrink in size during execution of a program.\n",
    "* Can just as long as as required(until system memory exhausts).\n",
    "* It does not waste memory space (but takes some extra memory for pointer).\n",
    "* Access element required O(n).\n"
   ]
  },
  {
   "cell_type": "code",
   "execution_count": 92,
   "metadata": {},
   "outputs": [
    {
     "data": {
      "text/plain": [
       "1"
      ]
     },
     "execution_count": 92,
     "metadata": {},
     "output_type": "execute_result"
    }
   ],
   "source": [
    "# Problem of array\n",
    "\n",
    "arr = [1,2, 3, 4, 6, 7, 8, 9, 10]\n",
    "arr [0]"
   ]
  },
  {
   "cell_type": "code",
   "execution_count": 97,
   "metadata": {},
   "outputs": [
    {
     "name": "stdout",
     "output_type": "stream",
     "text": [
      "(0, 1)\n",
      "(1, 2)\n",
      "(2, 3)\n",
      "(3, 4)\n",
      "(4, 5)\n",
      "(5, 6)\n",
      "(6, 7)\n",
      "(7, 8)\n",
      "(8, 9)\n",
      "(9, 10)\n"
     ]
    }
   ],
   "source": [
    "for i in enumerate(arr):\n",
    "    print (i)"
   ]
  },
  {
   "cell_type": "code",
   "execution_count": 99,
   "metadata": {},
   "outputs": [
    {
     "name": "stdout",
     "output_type": "stream",
     "text": [
      "0 Value: 1\n",
      "1 Value: 2\n",
      "2 Value: 3\n",
      "3 Value: 4\n",
      "4 Value: 5\n",
      "5 Value: 6\n",
      "6 Value: 7\n",
      "7 Value: 8\n",
      "8 Value: 9\n",
      "9 Value: 10\n"
     ]
    }
   ],
   "source": [
    "for i, j in enumerate(arr):\n",
    "    print (i,\"Value:\", j)"
   ]
  },
  {
   "cell_type": "code",
   "execution_count": 93,
   "metadata": {},
   "outputs": [
    {
     "name": "stdout",
     "output_type": "stream",
     "text": [
      "[1, 2, 3, 4, 5, 6, 7, 8, 9, 10]\n"
     ]
    }
   ],
   "source": [
    "\n",
    "def insertElement(pos, element, arr):\n",
    "    if pos == len(arr) :\n",
    "        arr.append(element)\n",
    "        return arr\n",
    "    else:\n",
    "        temp = arr[pos]\n",
    "        arr[pos] = element\n",
    "        return insertElement(pos+1, temp, arr)\n",
    "        \n",
    "\n",
    "print (insertElement(4, 5, arr))"
   ]
  },
  {
   "cell_type": "code",
   "execution_count": 100,
   "metadata": {},
   "outputs": [
    {
     "name": "stdout",
     "output_type": "stream",
     "text": [
      "[1, 2, 3, 4, 6, 7, 8, 9, 10]\n",
      "[1, 2, 3, 4, 5, 7, 8, 9, 10]\n",
      "[1, 2, 3, 4, 5, 6, 8, 9, 10]\n",
      "[1, 2, 3, 4, 5, 6, 7, 9, 10]\n",
      "[1, 2, 3, 4, 5, 6, 7, 8, 10]\n",
      "[1, 2, 3, 4, 5, 6, 7, 8, 9, 10]\n"
     ]
    }
   ],
   "source": [
    "a = [1, 2, 3, 4, 6, 7, 8, 9, 10]\n",
    "\n",
    "element = 5\n",
    "for i in range(4, len(a)):\n",
    "    print (a)\n",
    "    temp = a[i]\n",
    "    a[i] = element\n",
    "    element = temp\n",
    "a.append(element)\n",
    "print (a)\n",
    "\n",
    "\n",
    "    "
   ]
  },
  {
   "cell_type": "markdown",
   "metadata": {},
   "source": [
    "## Singly Linked List\n",
    "\n",
    "* Create Nodes\n",
    "* Create Linked List\n",
    "* Add Nodes to linked List\n",
    "* Print Linked List"
   ]
  },
  {
   "cell_type": "code",
   "execution_count": 154,
   "metadata": {},
   "outputs": [
    {
     "name": "stdout",
     "output_type": "stream",
     "text": [
      "one\n",
      "Jit\n",
      "Two\n",
      "Ben\n",
      "Mathew\n",
      "Five\n",
      "Alice\n",
      "Bob\n",
      "******After Delete*******\n",
      "one\n",
      "Jit\n",
      "Two\n",
      "Ben\n",
      "Mathew\n",
      "Five\n",
      "Alice\n",
      "******After Delete*******\n",
      "one\n",
      "Jit\n",
      "Two\n",
      "Mathew\n",
      "Five\n",
      "Alice\n"
     ]
    }
   ],
   "source": [
    "class Node:  \n",
    "    def __init__(self, data):\n",
    "        self.data = data\n",
    "        self.next = None\n",
    "    \n",
    "class LinkedList:\n",
    "    \n",
    "    def __init__(self):\n",
    "        self.head = None\n",
    "        \n",
    "    def lengthList(self):\n",
    "        currentNode = self.head\n",
    "        length = 0\n",
    "        while currentNode is not None:\n",
    "            currentNode = currentNode.next\n",
    "            length += 1\n",
    "        return length\n",
    "    \n",
    "    def insertEnd(self, newNode):\n",
    "        if self.head is None:\n",
    "            self.head = newNode\n",
    "        else:\n",
    "            lastNode = self.head\n",
    "            while True:\n",
    "                if lastNode.next is None:\n",
    "                    break\n",
    "                lastNode = lastNode.next\n",
    "            lastNode.next = newNode\n",
    "    \n",
    "    def insertHead(self, newNode):\n",
    "        temp = self.head\n",
    "        self.head = newNode\n",
    "        self.head.next = temp\n",
    "        del temp\n",
    "    \n",
    "    def insertAt(self, newNode, position):\n",
    "        current = self.head\n",
    "        currentPosition = 0\n",
    "        if position == 0:\n",
    "            self.insertHead(newNode)\n",
    "            return\n",
    "        if position < 0 or position > self.lengthList():\n",
    "            print (\"Invalid Position.\")\n",
    "            return \n",
    "        while True:\n",
    "            if currentPosition == position-1:\n",
    "                newNode.next = current.next\n",
    "                current.next = newNode\n",
    "                break\n",
    "            current = current.next\n",
    "            currentPosition += 1\n",
    "    \n",
    "    def deleteAt(self, position):\n",
    "        currentNode = self.head\n",
    "        currentPosition = 0\n",
    "        if position == 0:\n",
    "            temp = self.head\n",
    "            self.head = currentNode.next\n",
    "            del temp\n",
    "            return\n",
    "        if position < 0 or position > self.lengthList():\n",
    "            print (\"Invalid Position.\")\n",
    "            return \n",
    "        while True:\n",
    "            if currentPosition == position:\n",
    "                previousNode.next = currentNode.next\n",
    "                del currentNode\n",
    "                break\n",
    "            previousNode = currentNode\n",
    "            currentPosition += 1\n",
    "            currentNode = currentNode.next\n",
    "    \n",
    "    def deleteEnd(self):\n",
    "        currentNode = self.head\n",
    "        while currentNode.next is not None:\n",
    "            previousNode = currentNode\n",
    "            currentNode = currentNode.next\n",
    "                \n",
    "        previousNode.next = None        \n",
    "        del currentNode\n",
    "\n",
    "    \n",
    "    def print(self):\n",
    "        if self.head is None:\n",
    "            print (\"List is empty\")\n",
    "            return\n",
    "        currentNode = self.head\n",
    "        while True:\n",
    "            \n",
    "            if currentNode is None:\n",
    "                break\n",
    "            print (currentNode.data)\n",
    "            currentNode = currentNode.next\n",
    "            \n",
    "firstNode = Node('Jit')\n",
    "linkedList = LinkedList()\n",
    "linkedList.insertEnd(firstNode)\n",
    "secondNode = Node('Ben')\n",
    "linkedList.insertEnd(secondNode)\n",
    "thirdNode = Node(\"Mathew\")\n",
    "linkedList.insertEnd(thirdNode)\n",
    "forthNode = Node(\"Alice\")\n",
    "linkedList.insertEnd(forthNode)\n",
    "headNode = Node(\"one\")\n",
    "linkedList.insertHead(headNode)\n",
    "forthNode = Node(\"Bob\")\n",
    "linkedList.insertEnd(forthNode)\n",
    "twoNode  = Node('Two')\n",
    "linkedList.insertAt(twoNode, 2)\n",
    "twoNode  = Node('Five')\n",
    "linkedList.insertAt(twoNode, 5)\n",
    "        \n",
    "linkedList.print()\n",
    "linkedList.deleteEnd()\n",
    "print (\"******After Delete*******\")\n",
    "linkedList.print()\n",
    "print (\"******After Delete*******\")\n",
    "linkedList.deleteAt(3)\n",
    "linkedList.print()\n",
    "\n",
    "    \n"
   ]
  },
  {
   "cell_type": "code",
   "execution_count": 164,
   "metadata": {},
   "outputs": [],
   "source": [
    "def mergeList(firstList, secondList, mergedList):\n",
    "    \n",
    "    currentFirst = firstList.head\n",
    "    currentSecond = secondList.head\n",
    "    while True:\n",
    "        \n",
    "        if currentFirst is None:\n",
    "            mergedList.insertEnd(currentSecond)\n",
    "            break\n",
    "            \n",
    "        if currentSecond is None:\n",
    "            mergedList.insertEnd(currentFirst)\n",
    "            break\n",
    "\n",
    "        if currentFirst.data < currentSecond.data:\n",
    "            currentFirstNext = currentFirst.next\n",
    "            currentFirst.next = None\n",
    "            mergedList.insertEnd(currentFirst)\n",
    "            currentFirst = currentFirstNext\n",
    "        else:\n",
    "            currentSecondNext = currentSecond.next\n",
    "            currentSecond.next = None\n",
    "            mergedList.insertEnd(currentSecond)\n",
    "            currentSecond = currentSecondNext\n",
    "        "
   ]
  },
  {
   "cell_type": "code",
   "execution_count": 165,
   "metadata": {},
   "outputs": [
    {
     "name": "stdout",
     "output_type": "stream",
     "text": [
      "Print First Linked List\n",
      "1\n",
      "2\n",
      "3\n",
      "5\n",
      "7\n",
      "9\n",
      "Print Second Linked List\n",
      "2\n",
      "3\n",
      "5\n",
      "7\n",
      "9\n",
      "Print Merged List.\n",
      "1\n",
      "2\n",
      "3\n",
      "5\n",
      "7\n",
      "9\n"
     ]
    }
   ],
   "source": [
    "nodeOne = Node(1)\n",
    "nodeTwo = Node(3)\n",
    "nodeThree = Node(5)\n",
    "\n",
    "firstList = LinkedList()\n",
    "firstList.insertEnd(nodeOne)\n",
    "firstList.insertEnd(nodeTwo)\n",
    "firstList.insertEnd(nodeThree)\n",
    "\n",
    "nodeFour = Node(2)\n",
    "nodeFive = Node(7)\n",
    "nodeSix = Node(9)\n",
    "\n",
    "secondList = LinkedList()\n",
    "secondList.insertEnd(nodeFour)\n",
    "secondList.insertEnd(nodeFive)\n",
    "secondList.insertEnd(nodeSix)\n",
    "\n",
    "mergedList = LinkedList()\n",
    "\n",
    "mergeList(firstList, secondList, mergedList)\n",
    "print (\"Print First Linked List\")\n",
    "firstList.print()\n",
    "\n",
    "print (\"Print Second Linked List\")\n",
    "secondList.print()\n",
    "\n",
    "print (\"Print Merged List.\")\n",
    "mergedList.print()\n"
   ]
  },
  {
   "cell_type": "code",
   "execution_count": null,
   "metadata": {},
   "outputs": [],
   "source": []
  }
 ],
 "metadata": {
  "kernelspec": {
   "display_name": "Python 3",
   "language": "python",
   "name": "python3"
  },
  "language_info": {
   "codemirror_mode": {
    "name": "ipython",
    "version": 3
   },
   "file_extension": ".py",
   "mimetype": "text/x-python",
   "name": "python",
   "nbconvert_exporter": "python",
   "pygments_lexer": "ipython3",
   "version": "3.6.8"
  }
 },
 "nbformat": 4,
 "nbformat_minor": 4
}
